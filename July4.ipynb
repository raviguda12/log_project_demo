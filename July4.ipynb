{
  "nbformat": 4,
  "nbformat_minor": 0,
  "metadata": {
    "colab": {
      "provenance": [],
      "mount_file_id": "14CI_jvc8n1wy9Gyd4SgbboUZNY4qtIIi",
      "authorship_tag": "ABX9TyMXRrOkeBAyW/ZRqJw0dYNG",
      "include_colab_link": true
    },
    "kernelspec": {
      "name": "python3",
      "display_name": "Python 3"
    },
    "language_info": {
      "name": "python"
    }
  },
  "cells": [
    {
      "cell_type": "markdown",
      "metadata": {
        "id": "view-in-github",
        "colab_type": "text"
      },
      "source": [
        "<a href=\"https://colab.research.google.com/github/raviguda12/log_project_demo/blob/main/July4.ipynb\" target=\"_parent\"><img src=\"https://colab.research.google.com/assets/colab-badge.svg\" alt=\"Open In Colab\"/></a>"
      ]
    },
    {
      "cell_type": "code",
      "execution_count": 3,
      "metadata": {
        "colab": {
          "base_uri": "https://localhost:8080/"
        },
        "id": "RKSkv5qWuzrj",
        "outputId": "21f0ed1c-f9d8-4248-951b-c6cc838feec0"
      },
      "outputs": [
        {
          "output_type": "stream",
          "name": "stdout",
          "text": [
            "Requirement already satisfied: pyspark in /usr/local/lib/python3.10/dist-packages (3.4.1)\n",
            "Requirement already satisfied: py4j==0.10.9.7 in /usr/local/lib/python3.10/dist-packages (from pyspark) (0.10.9.7)\n"
          ]
        }
      ],
      "source": [
        "!pip3 install pyspark\n"
      ]
    },
    {
      "cell_type": "markdown",
      "source": [
        "# New section"
      ],
      "metadata": {
        "id": "W-mpPkHavKcK"
      }
    },
    {
      "cell_type": "code",
      "source": [
        "from google.colab import drive\n",
        "drive.mount('/content/drive')"
      ],
      "metadata": {
        "id": "_iYU1V6qvjNw",
        "colab": {
          "base_uri": "https://localhost:8080/"
        },
        "outputId": "76a34192-80c9-4625-91c7-83a036f2a212"
      },
      "execution_count": 4,
      "outputs": [
        {
          "output_type": "stream",
          "name": "stdout",
          "text": [
            "Drive already mounted at /content/drive; to attempt to forcibly remount, call drive.mount(\"/content/drive\", force_remount=True).\n"
          ]
        }
      ]
    },
    {
      "cell_type": "code",
      "source": [
        "!pip3 install findspark"
      ],
      "metadata": {
        "id": "CMQj3kNov6Ym",
        "colab": {
          "base_uri": "https://localhost:8080/"
        },
        "outputId": "36590724-17a3-4703-dc5e-1f4639d116a8"
      },
      "execution_count": 5,
      "outputs": [
        {
          "output_type": "stream",
          "name": "stdout",
          "text": [
            "Collecting findspark\n",
            "  Downloading findspark-2.0.1-py2.py3-none-any.whl (4.4 kB)\n",
            "Installing collected packages: findspark\n",
            "Successfully installed findspark-2.0.1\n"
          ]
        }
      ]
    },
    {
      "cell_type": "code",
      "source": [
        "import findspark"
      ],
      "metadata": {
        "id": "069hLy2_wEEN"
      },
      "execution_count": 6,
      "outputs": []
    },
    {
      "cell_type": "code",
      "source": [
        "findspark.init()"
      ],
      "metadata": {
        "id": "2Rdf2W5UwKId"
      },
      "execution_count": 7,
      "outputs": []
    },
    {
      "cell_type": "code",
      "source": [
        "from pyspark.sql import SparkSession"
      ],
      "metadata": {
        "id": "1f964nLIwL5a"
      },
      "execution_count": 8,
      "outputs": []
    },
    {
      "cell_type": "code",
      "source": [
        "from pyspark.sql.types import *"
      ],
      "metadata": {
        "id": "i3lImHe8wPlu"
      },
      "execution_count": 9,
      "outputs": []
    },
    {
      "cell_type": "code",
      "source": [
        "from pyspark.sql.functions import *"
      ],
      "metadata": {
        "id": "F57CpdV5wVHy"
      },
      "execution_count": 10,
      "outputs": []
    },
    {
      "cell_type": "code",
      "source": [
        "spark = SparkSession.builder.getOrCreate()"
      ],
      "metadata": {
        "id": "wu22Nna0wYcO"
      },
      "execution_count": 11,
      "outputs": []
    },
    {
      "cell_type": "code",
      "source": [
        "spark_context = spark.sparkContext"
      ],
      "metadata": {
        "id": "TJtv6C4Cwewk"
      },
      "execution_count": 12,
      "outputs": []
    },
    {
      "cell_type": "code",
      "source": [
        "rdd1 = spark.read.options(header='True', inferSchema='True', delimiter=',').csv(\"/content/drive/MyDrive/salesdataset/AdventureWorksProductCategories-210509-235702.csv\")"
      ],
      "metadata": {
        "id": "TE3LPR3RwmAK"
      },
      "execution_count": 13,
      "outputs": []
    },
    {
      "cell_type": "code",
      "source": [
        "rdd1.show()"
      ],
      "metadata": {
        "id": "CF8BCMnAh2LM",
        "colab": {
          "base_uri": "https://localhost:8080/"
        },
        "outputId": "22a77314-98db-4535-a7af-e1c282e789e5"
      },
      "execution_count": 14,
      "outputs": [
        {
          "output_type": "stream",
          "name": "stdout",
          "text": [
            "+-----+----------+--------+-----------+\n",
            "|    1|         2|       3|          4|\n",
            "+-----+----------+--------+-----------+\n",
            "|Bikes|Components|Clothing|Accessories|\n",
            "+-----+----------+--------+-----------+\n",
            "\n"
          ]
        }
      ]
    },
    {
      "cell_type": "code",
      "source": [
        "rdd2 = spark.read.options(header='True', inferSchema='True', delimiter=',').csv(\"/content/drive/MyDrive/salesdataset/AdventureWorksCustomers-210509-235702.csv\")"
      ],
      "metadata": {
        "id": "_v7os6pwh35A"
      },
      "execution_count": 17,
      "outputs": []
    },
    {
      "cell_type": "code",
      "source": [
        "rdd2.show()"
      ],
      "metadata": {
        "id": "0XSAn4NTiKI4",
        "colab": {
          "base_uri": "https://localhost:8080/"
        },
        "outputId": "5097ec75-fbc6-4f31-bf49-8f7fc24aced6"
      },
      "execution_count": 18,
      "outputs": [
        {
          "output_type": "stream",
          "name": "stdout",
          "text": [
            "+-----------+------+---------+--------+---------+-------------+------+--------------------+------------+-------------+---------------+--------------+---------+\n",
            "|CustomerKey|Prefix|FirstName|LastName|BirthDate|MaritalStatus|Gender|        EmailAddress|AnnualIncome|TotalChildren| EducationLevel|    Occupation|HomeOwner|\n",
            "+-----------+------+---------+--------+---------+-------------+------+--------------------+------------+-------------+---------------+--------------+---------+\n",
            "|      11000|   MR.|      JON|    YANG| 4/8/1966|            M|     M|jon24@adventure-w...|    $90,000 |            2|      Bachelors|  Professional|        Y|\n",
            "|      11001|   MR.|   EUGENE|   HUANG|5/14/1965|            S|     M|eugene10@adventur...|    $60,000 |            3|      Bachelors|  Professional|        N|\n",
            "|      11002|   MR.|    RUBEN|  TORRES|8/12/1965|            M|     M|ruben35@adventure...|    $60,000 |            3|      Bachelors|  Professional|        Y|\n",
            "|      11003|   MS.|  CHRISTY|     ZHU|2/15/1968|            S|     F|christy12@adventu...|    $70,000 |            0|           null|  Professional|        N|\n",
            "|      11004|  MRS.|ELIZABETH| JOHNSON| 8/8/1968|            S|     F|elizabeth5@advent...|    $80,000 |            5|      Bachelors|  Professional|        Y|\n",
            "|      11005|   MR.|    JULIO|    RUIZ| 8/5/1965|            S|     M|julio1@adventure-...|    $70,000 |            0|      Bachelors|  Professional|        Y|\n",
            "|      11007|   MR.|    MARCO|   MEHTA| 5/9/1964|            M|     M|marco14@adventure...|    $60,000 |            3|      Bachelors|  Professional|        Y|\n",
            "|      11008|  MRS.|    ROBIN| VERHOFF| 7/7/1964|            S|     F|rob4@adventure-wo...|    $60,000 |            4|      Bachelors|  Professional|        Y|\n",
            "|      11009|   MR.|  SHANNON| CARLSON| 4/1/1964|            S|     M|shannon38@adventu...|    $70,000 |            0|      Bachelors|  Professional|        N|\n",
            "|      11010|   MS.|JACQUELYN|  SUAREZ| 2/6/1964|            S|     F|jacquelyn20@adven...|    $70,000 |            0|      Bachelors|  Professional|        N|\n",
            "|      11011|   MR.|   CURTIS|      LU|11/4/1963|            M|     M|curtis9@adventure...|    $60,000 |            4|      Bachelors|  Professional|        Y|\n",
            "|      11012|  MRS.|   LAUREN|  WALKER|1/18/1968|            M|     F|lauren41@adventur...|   $100,000 |            2|      Bachelors|    Management|        Y|\n",
            "|      11013|   MR.|      IAN| JENKINS| 8/6/1968|            M|     M|ian47@adventure-w...|   $100,000 |            2|      Bachelors|    Management|        Y|\n",
            "|      11014|  MRS.|   SYDNEY| BENNETT| 5/9/1968|            S|     F|sydney23@adventur...|   $100,000 |            3|      Bachelors|    Management|        N|\n",
            "|      11015|   MS.|    CHLOE|   YOUNG|2/27/1979|            S|     F|chloe23@adventure...|    $30,000 |            0|Partial College|Skilled Manual|        N|\n",
            "|      11016|   MR.|    WYATT|    HILL|4/28/1979|            M|     M|wyatt32@adventure...|    $30,000 |            0|Partial College|Skilled Manual|        Y|\n",
            "|      11017|  MRS.|  SHANNON|    WANG|6/26/1944|            S|     F|shannon1@adventur...|    $20,000 |            4|    High School|Skilled Manual|        Y|\n",
            "|      11018|   MR.| CLARENCE|     RAI|10/9/1944|            S|     M|clarence32@advent...|    $30,000 |            2|           null|      Clerical|        Y|\n",
            "|      11019|   MR.|     LUKE|     LAL| 3/7/1978|            S|     M|luke18@adventure-...|    $40,000 |            0|    High School|Skilled Manual|        N|\n",
            "|      11020|   MR.|   JORDAN|    KING|9/20/1978|            S|     M|jordan73@adventur...|    $40,000 |            0|    High School|Skilled Manual|        N|\n",
            "+-----------+------+---------+--------+---------+-------------+------+--------------------+------------+-------------+---------------+--------------+---------+\n",
            "only showing top 20 rows\n",
            "\n"
          ]
        }
      ]
    },
    {
      "cell_type": "code",
      "source": [
        "rdd3 = spark.read.options(header='True', inferSchema='True', delimiter=',').csv(\"/content/drive/MyDrive/salesdataset/AdventureWorksCalendar-210509-235702.csv\")"
      ],
      "metadata": {
        "id": "XlN41ewciReF"
      },
      "execution_count": 19,
      "outputs": []
    },
    {
      "cell_type": "code",
      "source": [
        "rdd3.show()"
      ],
      "metadata": {
        "id": "fR64zm9kieVO",
        "colab": {
          "base_uri": "https://localhost:8080/"
        },
        "outputId": "5459a7de-6693-49c2-c964-f2de0d1400ae"
      },
      "execution_count": 20,
      "outputs": [
        {
          "output_type": "stream",
          "name": "stdout",
          "text": [
            "+---------+\n",
            "|     Date|\n",
            "+---------+\n",
            "| 1/1/2015|\n",
            "| 1/2/2015|\n",
            "| 1/3/2015|\n",
            "| 1/4/2015|\n",
            "| 1/5/2015|\n",
            "| 1/6/2015|\n",
            "| 1/7/2015|\n",
            "| 1/8/2015|\n",
            "| 1/9/2015|\n",
            "|1/10/2015|\n",
            "|1/11/2015|\n",
            "|1/12/2015|\n",
            "|1/13/2015|\n",
            "|1/14/2015|\n",
            "|1/15/2015|\n",
            "|1/16/2015|\n",
            "|1/17/2015|\n",
            "|1/18/2015|\n",
            "|1/19/2015|\n",
            "|1/20/2015|\n",
            "+---------+\n",
            "only showing top 20 rows\n",
            "\n"
          ]
        }
      ]
    },
    {
      "cell_type": "code",
      "source": [
        "rdd4 = spark.read.options(header='True', inferSchema='True', delimiter=',').csv(\"/content/drive/MyDrive/salesdataset/AdventureWorksProducts-210509-235702.csv\")"
      ],
      "metadata": {
        "id": "-xfhGTAhijjC"
      },
      "execution_count": 22,
      "outputs": []
    },
    {
      "cell_type": "code",
      "source": [
        "rdd4.show()"
      ],
      "metadata": {
        "id": "vdM80L5-ixbP",
        "colab": {
          "base_uri": "https://localhost:8080/"
        },
        "outputId": "809111ae-8241-43df-8de0-350db5d9248c"
      },
      "execution_count": 23,
      "outputs": [
        {
          "output_type": "stream",
          "name": "stdout",
          "text": [
            "+----------+---------------------+----------+--------------------+--------------------+--------------------+------------+-----------+------------+-----------+------------+\n",
            "|ProductKey|ProductSubcategoryKey|ProductSKU|         ProductName|           ModelName|  ProductDescription|ProductColor|ProductSize|ProductStyle|ProductCost|ProductPrice|\n",
            "+----------+---------------------+----------+--------------------+--------------------+--------------------+------------+-----------+------------+-----------+------------+\n",
            "|       214|                   31| HL-U509-R|Sport-100 Helmet,...|           Sport-100|Universal fit, we...|         Red|          0|           0|    13.0863|       34.99|\n",
            "|       215|                   31|   HL-U509|Sport-100 Helmet,...|           Sport-100|Universal fit, we...|       Black|          0|           0|    12.0278|     33.6442|\n",
            "|       218|                   23| SO-B909-M|Mountain Bike Soc...| Mountain Bike Socks|Combination of na...|       White|          M|           U|     3.3963|         9.5|\n",
            "|       219|                   23| SO-B909-L|Mountain Bike Soc...| Mountain Bike Socks|Combination of na...|       White|          L|           U|     3.3963|         9.5|\n",
            "|       220|                   31| HL-U509-B|Sport-100 Helmet,...|           Sport-100|Universal fit, we...|        Blue|          0|           0|    12.0278|     33.6442|\n",
            "|       223|                   19|   CA-1098|        AWC Logo Cap|         Cycling Cap|Traditional style...|       Multi|          0|           U|     5.7052|      8.6442|\n",
            "|       226|                   21| LJ-0192-S|Long-Sleeve Logo ...|Long-Sleeve Logo ...|Unisex long-sleev...|       Multi|          S|           U|    31.7244|     48.0673|\n",
            "|       229|                   21| LJ-0192-M|Long-Sleeve Logo ...|Long-Sleeve Logo ...|Unisex long-sleev...|       Multi|          M|           U|    31.7244|     48.0673|\n",
            "|       232|                   21| LJ-0192-L|Long-Sleeve Logo ...|Long-Sleeve Logo ...|Unisex long-sleev...|       Multi|          L|           U|    31.7244|     48.0673|\n",
            "|       235|                   21| LJ-0192-X|Long-Sleeve Logo ...|Long-Sleeve Logo ...|Unisex long-sleev...|       Multi|         XL|           U|    31.7244|     48.0673|\n",
            "|       238|                   14|FR-R92R-62|HL Road Frame - R...|       HL Road Frame|Our lightest and ...|         Red|         62|           U|   747.9682|   1263.4598|\n",
            "|       241|                   14|FR-R92R-44|HL Road Frame - R...|       HL Road Frame|Our lightest and ...|         Red|         44|           U|   747.9682|   1263.4598|\n",
            "|       244|                   14|FR-R92R-48|HL Road Frame - R...|       HL Road Frame|Our lightest and ...|         Red|         48|           U|   747.9682|   1263.4598|\n",
            "|       247|                   14|FR-R92R-52|HL Road Frame - R...|       HL Road Frame|Our lightest and ...|         Red|         52|           U|   747.9682|   1263.4598|\n",
            "|       250|                   14|FR-R92R-56|HL Road Frame - R...|       HL Road Frame|Our lightest and ...|         Red|         56|           U|   747.9682|   1263.4598|\n",
            "|       253|                   14|FR-R38B-58|LL Road Frame - B...|       LL Road Frame|The LL Frame prov...|       Black|         58|           U|   176.1997|    297.6346|\n",
            "|       256|                   14|FR-R38B-60|LL Road Frame - B...|       LL Road Frame|The LL Frame prov...|       Black|         60|           U|   176.1997|    297.6346|\n",
            "|       259|                   14|FR-R38B-62|LL Road Frame - B...|       LL Road Frame|The LL Frame prov...|       Black|         62|           U|   176.1997|    297.6346|\n",
            "|       262|                   14|FR-R38R-44|LL Road Frame - R...|       LL Road Frame|The LL Frame prov...|         Red|         44|           U|   181.4857|    306.5636|\n",
            "|       264|                   14|FR-R38R-48|LL Road Frame - R...|       LL Road Frame|The LL Frame prov...|         Red|         48|           U|   181.4857|    306.5636|\n",
            "+----------+---------------------+----------+--------------------+--------------------+--------------------+------------+-----------+------------+-----------+------------+\n",
            "only showing top 20 rows\n",
            "\n"
          ]
        }
      ]
    },
    {
      "cell_type": "code",
      "source": [
        "rdd5=spark.read.options(header='True', inferSchema='True', delimiter=',').csv(\"/content/drive/MyDrive/salesdataset/AdventureWorksProductSubcategories-210509-235702.csv\")"
      ],
      "metadata": {
        "id": "XtBFvjf6i2Bc"
      },
      "execution_count": 24,
      "outputs": []
    },
    {
      "cell_type": "code",
      "source": [
        "rdd5.show()"
      ],
      "metadata": {
        "id": "_r8kKfrsi_oq",
        "colab": {
          "base_uri": "https://localhost:8080/"
        },
        "outputId": "f0ef5ab0-0494-48d9-bbf6-995ed6eff2be"
      },
      "execution_count": 25,
      "outputs": [
        {
          "output_type": "stream",
          "name": "stdout",
          "text": [
            "+---------------------+---------------+------------------+\n",
            "|ProductSubcategoryKey|SubcategoryName|ProductCategoryKey|\n",
            "+---------------------+---------------+------------------+\n",
            "|                    1| Mountain Bikes|                 1|\n",
            "|                    2|     Road Bikes|                 1|\n",
            "|                    3|  Touring Bikes|                 1|\n",
            "|                    4|     Handlebars|                 2|\n",
            "|                    5|Bottom Brackets|                 2|\n",
            "|                    6|         Brakes|                 2|\n",
            "|                    7|         Chains|                 2|\n",
            "|                    8|      Cranksets|                 2|\n",
            "|                    9|    Derailleurs|                 2|\n",
            "|                   10|          Forks|                 2|\n",
            "|                   11|       Headsets|                 2|\n",
            "|                   12|Mountain Frames|                 2|\n",
            "|                   13|         Pedals|                 2|\n",
            "|                   14|    Road Frames|                 2|\n",
            "|                   15|        Saddles|                 2|\n",
            "|                   16| Touring Frames|                 2|\n",
            "|                   17|         Wheels|                 2|\n",
            "|                   18|     Bib-Shorts|                 3|\n",
            "|                   19|           Caps|                 3|\n",
            "|                   20|         Gloves|                 3|\n",
            "+---------------------+---------------+------------------+\n",
            "only showing top 20 rows\n",
            "\n"
          ]
        }
      ]
    },
    {
      "cell_type": "code",
      "source": [
        "rdd6=spark.read.options(header='True', inferSchema='True', delimiter=',').csv(\"/content/drive/MyDrive/salesdataset/AdventureWorksReturns-210509-235702.csv\")"
      ],
      "metadata": {
        "id": "_Kpth5pejC7D"
      },
      "execution_count": 27,
      "outputs": []
    },
    {
      "cell_type": "code",
      "source": [
        "rdd6.show()"
      ],
      "metadata": {
        "id": "SShI-HgSjOCr",
        "colab": {
          "base_uri": "https://localhost:8080/"
        },
        "outputId": "0013e53f-ec5d-4874-ec29-7b39658f2028"
      },
      "execution_count": 36,
      "outputs": [
        {
          "output_type": "stream",
          "name": "stdout",
          "text": [
            "+----------+------------+----------+--------------+\n",
            "|ReturnDate|TerritoryKey|ProductKey|ReturnQuantity|\n",
            "+----------+------------+----------+--------------+\n",
            "| 1/18/2015|           9|       312|             1|\n",
            "| 1/18/2015|          10|       310|             1|\n",
            "| 1/21/2015|           8|       346|             1|\n",
            "| 1/22/2015|           4|       311|             1|\n",
            "|  2/2/2015|           6|       312|             1|\n",
            "| 2/15/2015|           1|       312|             1|\n",
            "| 2/19/2015|           9|       311|             1|\n",
            "| 2/24/2015|           8|       314|             1|\n",
            "|  3/8/2015|           8|       350|             1|\n",
            "| 3/13/2015|           9|       350|             1|\n",
            "| 3/14/2015|           4|       346|             1|\n",
            "| 3/15/2015|           9|       340|             1|\n",
            "| 3/22/2015|           4|       311|             1|\n",
            "| 3/26/2015|          10|       312|             1|\n",
            "| 3/28/2015|           7|       312|             1|\n",
            "| 3/28/2015|           9|       314|             1|\n",
            "| 3/29/2015|           9|       311|             1|\n",
            "|  4/1/2015|           8|       311|             1|\n",
            "|  4/7/2015|           9|       311|             1|\n",
            "|  4/7/2015|           9|       351|             1|\n",
            "+----------+------------+----------+--------------+\n",
            "only showing top 20 rows\n",
            "\n"
          ]
        }
      ]
    },
    {
      "cell_type": "code",
      "source": [
        "rdd7=spark.read.options(header='True', inferSchema='True', delimiter=',').csv(\"/content/drive/MyDrive/salesdataset/AdventureWorksSales2015-210509-235702.csv\")"
      ],
      "metadata": {
        "id": "4r_Mj_UYjR1p"
      },
      "execution_count": 28,
      "outputs": []
    },
    {
      "cell_type": "code",
      "source": [
        "rdd7.show()"
      ],
      "metadata": {
        "id": "rH7fPhncjdA9",
        "colab": {
          "base_uri": "https://localhost:8080/"
        },
        "outputId": "3ba072ff-7cf1-4e6c-9a22-8209057dcebb"
      },
      "execution_count": 29,
      "outputs": [
        {
          "output_type": "stream",
          "name": "stdout",
          "text": [
            "+---------+----------+-----------+----------+-----------+------------+-------------+-------------+\n",
            "|OrderDate| StockDate|OrderNumber|ProductKey|CustomerKey|TerritoryKey|OrderLineItem|OrderQuantity|\n",
            "+---------+----------+-----------+----------+-----------+------------+-------------+-------------+\n",
            "| 1/1/2015| 9/21/2001|    SO45080|       332|      14657|           1|            1|            1|\n",
            "| 1/1/2015| 12/5/2001|    SO45079|       312|      29255|           4|            1|            1|\n",
            "| 1/1/2015|10/29/2001|    SO45082|       350|      11455|           9|            1|            1|\n",
            "| 1/1/2015|11/16/2001|    SO45081|       338|      26782|           6|            1|            1|\n",
            "| 1/2/2015|12/15/2001|    SO45083|       312|      14947|          10|            1|            1|\n",
            "| 1/2/2015|10/12/2001|    SO45084|       310|      29143|           4|            1|            1|\n",
            "| 1/2/2015|12/18/2001|    SO45086|       314|      18747|           9|            1|            1|\n",
            "| 1/2/2015| 10/9/2001|    SO45085|       312|      18746|           9|            1|            1|\n",
            "| 1/3/2015| 10/3/2001|    SO45093|       312|      18906|           9|            1|            1|\n",
            "| 1/3/2015| 9/29/2001|    SO45090|       310|      29170|           4|            1|            1|\n",
            "| 1/3/2015|12/11/2001|    SO45088|       345|      11398|          10|            1|            1|\n",
            "| 1/3/2015|10/24/2001|    SO45092|       313|      18899|           9|            1|            1|\n",
            "| 1/3/2015|12/16/2001|    SO45089|       351|      25977|           4|            1|            1|\n",
            "| 1/3/2015|10/26/2001|    SO45091|       314|      18909|           9|            1|            1|\n",
            "| 1/3/2015| 9/11/2001|    SO45087|       350|      11388|          10|            1|            1|\n",
            "| 1/3/2015| 9/11/2001|    SO45094|       310|      22785|           6|            1|            1|\n",
            "| 1/4/2015|10/30/2001|    SO45096|       312|      12483|           7|            1|            1|\n",
            "| 1/4/2015|10/30/2001|    SO45097|       313|      29151|           4|            1|            1|\n",
            "| 1/4/2015| 9/15/2001|    SO45098|       310|      29167|           1|            1|            1|\n",
            "| 1/4/2015| 12/7/2001|    SO45095|       344|      11394|          10|            1|            1|\n",
            "+---------+----------+-----------+----------+-----------+------------+-------------+-------------+\n",
            "only showing top 20 rows\n",
            "\n"
          ]
        }
      ]
    },
    {
      "cell_type": "code",
      "source": [
        "rdd8=spark.read.options(header='True', inferSchema='True', delimiter=',').csv(\"/content/drive/MyDrive/salesdataset/AdventureWorksSales2016-210509-235702.csv\")"
      ],
      "metadata": {
        "id": "np2kfFqnmEB8"
      },
      "execution_count": 30,
      "outputs": []
    },
    {
      "cell_type": "code",
      "source": [
        "rdd8.show()"
      ],
      "metadata": {
        "id": "EFgXOzTdmPkB",
        "colab": {
          "base_uri": "https://localhost:8080/"
        },
        "outputId": "e3df015d-05b7-40a5-d262-7b8515055bd3"
      },
      "execution_count": 32,
      "outputs": [
        {
          "output_type": "stream",
          "name": "stdout",
          "text": [
            "+---------+----------+-----------+----------+-----------+------------+-------------+-------------+\n",
            "|OrderDate| StockDate|OrderNumber|ProductKey|CustomerKey|TerritoryKey|OrderLineItem|OrderQuantity|\n",
            "+---------+----------+-----------+----------+-----------+------------+-------------+-------------+\n",
            "| 1/1/2016|10/17/2002|    SO48797|       385|      14335|           1|            1|            1|\n",
            "| 1/1/2016| 9/30/2002|    SO48802|       383|      24923|           9|            1|            1|\n",
            "| 1/1/2016|11/29/2002|    SO48801|       326|      15493|           1|            1|            1|\n",
            "| 1/1/2016|11/16/2002|    SO48799|       352|      26708|           4|            1|            1|\n",
            "| 1/1/2016|12/16/2002|    SO48798|       369|      23332|           9|            1|            1|\n",
            "| 1/1/2016| 12/2/2002|    SO48800|       342|      15491|           5|            1|            1|\n",
            "| 1/1/2016|10/19/2002|    SO48795|       375|      16538|           8|            1|            1|\n",
            "| 1/1/2016|11/23/2002|    SO48796|       375|      15094|           7|            1|            1|\n",
            "| 1/2/2016| 12/1/2002|    SO48804|       356|      12276|           8|            1|            1|\n",
            "| 1/2/2016| 9/12/2002|    SO48814|       360|      13647|           9|            1|            1|\n",
            "| 1/2/2016|10/30/2002|    SO48812|       356|      13630|           9|            1|            1|\n",
            "| 1/2/2016| 9/15/2002|    SO48803|       383|      19416|          10|            1|            1|\n",
            "| 1/2/2016|11/23/2002|    SO48809|       369|      23411|           9|            1|            1|\n",
            "| 1/2/2016|10/27/2002|    SO48807|       324|      20892|          10|            1|            1|\n",
            "| 1/2/2016|10/10/2002|    SO48805|       330|      19318|           7|            1|            1|\n",
            "| 1/2/2016|12/11/2002|    SO48808|       368|      16552|           8|            1|            1|\n",
            "| 1/2/2016|10/18/2002|    SO48813|       362|      13631|           9|            1|            1|\n",
            "| 1/2/2016|10/22/2002|    SO48810|       369|      23415|           9|            1|            1|\n",
            "| 1/2/2016|11/30/2002|    SO48806|       340|      20885|          10|            1|            1|\n",
            "| 1/2/2016| 10/6/2002|    SO48811|       334|      15517|           4|            1|            1|\n",
            "+---------+----------+-----------+----------+-----------+------------+-------------+-------------+\n",
            "only showing top 20 rows\n",
            "\n"
          ]
        }
      ]
    },
    {
      "cell_type": "code",
      "source": [
        "rdd9=spark.read.options(header='True', inferSchema='True', delimiter=',').csv(\"/content/drive/MyDrive/salesdataset/AdventureWorksSales2017-210509-235702.csv\")"
      ],
      "metadata": {
        "id": "-9o2zaGTmXWC"
      },
      "execution_count": 31,
      "outputs": []
    },
    {
      "cell_type": "code",
      "source": [
        "rdd9.show()"
      ],
      "metadata": {
        "id": "M_M5UQdYmiZd",
        "colab": {
          "base_uri": "https://localhost:8080/"
        },
        "outputId": "dcd965c8-452e-470f-b085-52c845a8e72a"
      },
      "execution_count": 35,
      "outputs": [
        {
          "output_type": "stream",
          "name": "stdout",
          "text": [
            "+---------+----------+-----------+----------+-----------+------------+-------------+-------------+\n",
            "|OrderDate| StockDate|OrderNumber|ProductKey|CustomerKey|TerritoryKey|OrderLineItem|OrderQuantity|\n",
            "+---------+----------+-----------+----------+-----------+------------+-------------+-------------+\n",
            "| 1/1/2017|12/13/2003|    SO61285|       529|      23791|           1|            2|            2|\n",
            "| 1/1/2017| 9/24/2003|    SO61285|       214|      23791|           1|            3|            1|\n",
            "| 1/1/2017|  9/4/2003|    SO61285|       540|      23791|           1|            1|            1|\n",
            "| 1/1/2017| 9/28/2003|    SO61301|       529|      16747|           1|            2|            2|\n",
            "| 1/1/2017|10/21/2003|    SO61301|       377|      16747|           1|            1|            1|\n",
            "| 1/1/2017|10/23/2003|    SO61301|       540|      16747|           1|            3|            1|\n",
            "| 1/1/2017|  9/4/2003|    SO61269|       215|      11792|           4|            1|            1|\n",
            "| 1/1/2017|10/21/2003|    SO61269|       229|      11792|           4|            2|            1|\n",
            "| 1/1/2017|10/24/2003|    SO61286|       528|      11530|           6|            2|            2|\n",
            "| 1/1/2017| 9/27/2003|    SO61286|       536|      11530|           6|            1|            2|\n",
            "| 1/1/2017|10/23/2003|    SO61298|       530|      18155|          10|            1|            2|\n",
            "| 1/1/2017| 12/2/2003|    SO61298|       214|      18155|          10|            3|            1|\n",
            "| 1/1/2017|12/15/2003|    SO61298|       223|      18155|          10|            2|            1|\n",
            "| 1/1/2017| 10/1/2003|    SO61310|       538|      13541|           8|            2|            2|\n",
            "| 1/1/2017| 11/8/2003|    SO61310|       584|      13541|           8|            1|            1|\n",
            "| 1/1/2017| 12/6/2003|    SO61270|       485|      18259|           9|            1|            2|\n",
            "| 1/1/2017|10/31/2003|    SO61289|       528|      23694|           1|            1|            2|\n",
            "| 1/1/2017|11/16/2003|    SO61289|       536|      23694|           1|            2|            2|\n",
            "| 1/1/2017|11/20/2003|    SO61289|       215|      23694|           1|            3|            1|\n",
            "| 1/1/2017|10/12/2003|    SO61278|       477|      22308|          10|            3|            2|\n",
            "+---------+----------+-----------+----------+-----------+------------+-------------+-------------+\n",
            "only showing top 20 rows\n",
            "\n"
          ]
        }
      ]
    },
    {
      "cell_type": "code",
      "source": [
        "rdd10=spark.read.options(header='True', inferSchema='True', delimiter=',').csv(\"/content/drive/MyDrive/salesdataset/AdventureWorksTerritories-210509-235702.csv\")"
      ],
      "metadata": {
        "id": "tUxXz83gmXSr"
      },
      "execution_count": 33,
      "outputs": []
    },
    {
      "cell_type": "code",
      "source": [
        "rdd10.show()"
      ],
      "metadata": {
        "id": "_St6ZrksmxAp",
        "colab": {
          "base_uri": "https://localhost:8080/"
        },
        "outputId": "e9860af5-103a-48d5-94e7-84b989841be9"
      },
      "execution_count": 34,
      "outputs": [
        {
          "output_type": "stream",
          "name": "stdout",
          "text": [
            "+-----------------+--------------+--------------+-------------+\n",
            "|SalesTerritoryKey|        Region|       Country|    Continent|\n",
            "+-----------------+--------------+--------------+-------------+\n",
            "|                1|     Northwest| United States|North America|\n",
            "|                2|     Northeast| United States|North America|\n",
            "|                3|       Central| United States|North America|\n",
            "|                4|     Southwest| United States|North America|\n",
            "|                5|     Southeast| United States|North America|\n",
            "|                6|        Canada|        Canada|North America|\n",
            "|                7|        France|        France|       Europe|\n",
            "|                8|       Germany|       Germany|       Europe|\n",
            "|                9|     Australia|     Australia|      Pacific|\n",
            "|               10|United Kingdom|United Kingdom|       Europe|\n",
            "+-----------------+--------------+--------------+-------------+\n",
            "\n"
          ]
        }
      ]
    }
  ]
}